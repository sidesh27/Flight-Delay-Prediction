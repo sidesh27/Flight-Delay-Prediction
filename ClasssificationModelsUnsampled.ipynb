{
 "cells": [
  {
   "cell_type": "code",
   "execution_count": 0,
   "metadata": {
    "colab": {},
    "colab_type": "code",
    "id": "SMPlWYHKCVAc"
   },
   "outputs": [],
   "source": [
    "import pandas as pd\n",
    "import numpy as np\n",
    "import matplotlib\n",
    "import matplotlib.pyplot as plt\n",
    "from sklearn import linear_model\n",
    "from sklearn import metrics\n",
    "from sklearn.model_selection import train_test_split\n",
    "from sklearn.feature_selection import RFE\n",
    "from sklearn.metrics import jaccard_similarity_score\n",
    "from sklearn.metrics import confusion_matrix\n",
    "from sklearn.metrics import classification_report\n",
    "from sklearn.preprocessing import StandardScaler\n",
    "from sklearn.feature_selection import SelectKBest\n",
    "from sklearn.feature_selection import chi2\n",
    "from sklearn import preprocessing\n",
    "from sklearn.preprocessing import LabelEncoder\n",
    "from sklearn.preprocessing import StandardScaler\n",
    "from imblearn.over_sampling import SMOTE\n",
    "import seaborn as sns\n",
    "from sklearn.tree import DecisionTreeClassifier\n",
    "from sklearn.ensemble import RandomForestClassifier\n",
    "from sklearn.ensemble import ExtraTreesClassifier\n",
    "from xgboost import XGBClassifier"
   ]
  },
  {
   "cell_type": "code",
   "execution_count": 0,
   "metadata": {
    "colab": {},
    "colab_type": "code",
    "id": "mbRRRZ3rCdvU"
   },
   "outputs": [],
   "source": [
    "df = pd.read_csv(\"drive/My Drive/temp_merged.csv\")"
   ]
  },
  {
   "cell_type": "code",
   "execution_count": 0,
   "metadata": {
    "colab": {},
    "colab_type": "code",
    "id": "CX17po552lvW"
   },
   "outputs": [],
   "source": [
    "df = df.drop(columns=['Unnamed: 0', 'FlightDate', 'Quarter', 'Year', 'Month', 'DayofMonth',\n",
    "       'Origin', 'Dest','ArrTime'])\n",
    "y = df['ArrDel15']\n",
    "X = df.drop(columns=['ArrDel15','ArrDelayMinutes'])"
   ]
  },
  {
   "cell_type": "code",
   "execution_count": 0,
   "metadata": {
    "colab": {},
    "colab_type": "code",
    "id": "HiyTzoFK9hmW"
   },
   "outputs": [],
   "source": [
    "#FEATURE SET FOR TRAINING\n",
    "X.columns"
   ]
  },
  {
   "cell_type": "markdown",
   "metadata": {},
   "source": [
    "### HEATMAP TO CHECK CORRELATION BETWEEN EACH OF THE FEATURES"
   ]
  },
  {
   "cell_type": "code",
   "execution_count": 0,
   "metadata": {
    "colab": {},
    "colab_type": "code",
    "id": "Y951iCQfCu2J"
   },
   "outputs": [],
   "source": [
    "\n",
    "plt.figure(figsize=(30,30))\n",
    "cor = df.corr()\n",
    "sns.heatmap(cor, annot=True, cmap=plt.cm.Reds)\n",
    "plt.show()"
   ]
  },
  {
   "cell_type": "code",
   "execution_count": 0,
   "metadata": {
    "colab": {},
    "colab_type": "code",
    "id": "BJhPHMXTDATf"
   },
   "outputs": [],
   "source": [
    "#CHECKING CORRELATION OF TARGET VARIABLE WITH EACH OF THE FEATURES\n",
    "\n",
    "corr_y = abs(cor['ArrDel15'])\n",
    "highest_corr = corr_y[corr_y >0.03]\n",
    "highest_corr.sort_values(ascending=True)"
   ]
  },
  {
   "cell_type": "markdown",
   "metadata": {
    "colab_type": "text",
    "id": "aT4JoQVjBQxh"
   },
   "source": [
    "### SPLITTING INTO TEST AND TRAIN SETS"
   ]
  },
  {
   "cell_type": "code",
   "execution_count": 0,
   "metadata": {
    "colab": {},
    "colab_type": "code",
    "id": "uF_XlAEqmzAX"
   },
   "outputs": [],
   "source": [
    "x_train, x_test, y_train, y_test = train_test_split(X, y, train_size=0.7)"
   ]
  },
  {
   "cell_type": "markdown",
   "metadata": {
    "colab_type": "text",
    "id": "ZCyMBjFzBY_W"
   },
   "source": [
    "### FEATURE SELECTION"
   ]
  },
  {
   "cell_type": "markdown",
   "metadata": {},
   "source": [
    "#### USING UNIVARITE FEATURE SELECTION-CHI2"
   ]
  },
  {
   "cell_type": "code",
   "execution_count": 0,
   "metadata": {
    "colab": {},
    "colab_type": "code",
    "id": "cTi2CjwCNZYz"
   },
   "outputs": [],
   "source": [
    "\n",
    "\"\"\"\n",
    "min_max_scaler = preprocessing.MinMaxScaler()\n",
    "Scaled_X = min_max_scaler.fit_transform(X)\n",
    "\n",
    "bestfeatures = SelectKBest(chi2, k=15)\n",
    "fit = bestfeatures.fit(Scaled_X,y)\n",
    "\n",
    "dfscores = pd.DataFrame(fit.scores_)\n",
    "dfcolumns = pd.DataFrame(X.columns)\n",
    "#concat two dataframes for better visualization \n",
    "featureScores = pd.concat([dfcolumns,dfscores],axis=1)\n",
    "featureScores.columns = ['Specs','Score']  #naming the dataframe columns\n",
    "\n",
    "feats = list(featureScores.nlargest(21,'Score').Specs)\n",
    "\n",
    "x_train = x_train[feats]\n",
    "x_test = x_test[feats]\n",
    "\n",
    "\"\"\""
   ]
  },
  {
   "cell_type": "markdown",
   "metadata": {},
   "source": [
    "#### USING RFE TECHNIQUE"
   ]
  },
  {
   "cell_type": "code",
   "execution_count": 0,
   "metadata": {
    "colab": {},
    "colab_type": "code",
    "id": "RiUa1SIeCkjc"
   },
   "outputs": [],
   "source": [
    "\"\"\"\n",
    "\n",
    "estimator = linear_model.LogisticRegression(max_iter=1000) \n",
    "selector = RFE(estimator) \n",
    "selector = selector.fit(X, y)\n",
    "\n",
    "k=list(selector.ranking_) \n",
    "feats=[] \n",
    "for i in range(len(k)): \n",
    "  if(k[i]==1): \n",
    "    feats.append(X.columns[i])\n",
    "\n",
    "x_train = x_train[feats] \n",
    "x_test = x_test[feats]\n",
    "\n",
    "\"\"\""
   ]
  },
  {
   "cell_type": "markdown",
   "metadata": {
    "colab_type": "text",
    "id": "DBwKCiro8H0m"
   },
   "source": [
    "## LOGISTIC REGRESSION"
   ]
  },
  {
   "cell_type": "code",
   "execution_count": 0,
   "metadata": {
    "colab": {},
    "colab_type": "code",
    "id": "nOgiZnYlm1JF"
   },
   "outputs": [],
   "source": [
    "lr = linear_model.LogisticRegression(max_iter=2000)\n",
    "clf = lr.fit(x_train, y_train)"
   ]
  },
  {
   "cell_type": "code",
   "execution_count": 0,
   "metadata": {
    "colab": {
     "base_uri": "https://localhost:8080/",
     "height": 235
    },
    "colab_type": "code",
    "id": "R00xRKTDnDAt",
    "outputId": "0ce913dd-47bb-43d6-d751-806c945c00bf"
   },
   "outputs": [
    {
     "name": "stdout",
     "output_type": "stream",
     "text": [
      "Logistic regression Train Accuracy :  0.9162363050085532\n",
      "Logistic regression Test Accuracy  :  0.9157157517598977\n",
      "[[ 79757  36955]\n",
      " [  9859 428859]]\n",
      "              precision    recall  f1-score   support\n",
      "\n",
      "         0.0       0.92      0.98      0.95    438718\n",
      "         1.0       0.89      0.68      0.77    116712\n",
      "\n",
      "    accuracy                           0.92    555430\n",
      "   macro avg       0.91      0.83      0.86    555430\n",
      "weighted avg       0.91      0.92      0.91    555430\n",
      "\n"
     ]
    }
   ],
   "source": [
    "print(\"Logistic regression Train Accuracy : \", clf.score(x_train,y_train))\n",
    "print(\"Logistic regression Test Accuracy  : \", metrics.accuracy_score(y_test, lr.predict(x_test)))\n",
    "\n",
    "print(confusion_matrix(y_test,lr.predict(x_test),labels=[1,0]))\n",
    "\n",
    "print(classification_report(y_test,lr.predict(x_test)))"
   ]
  },
  {
   "cell_type": "markdown",
   "metadata": {
    "colab_type": "text",
    "id": "JliJabmI8PrL"
   },
   "source": [
    "## RANDOM FOREST CLASSIFIER"
   ]
  },
  {
   "cell_type": "code",
   "execution_count": 0,
   "metadata": {
    "colab": {},
    "colab_type": "code",
    "id": "zZeK-lkAT9Tk"
   },
   "outputs": [],
   "source": [
    "rf = RandomForestClassifier(criterion='entropy')\n",
    "clf = rf.fit(x_train, y_train)\n",
    "y_pred = rf.predict(x_test)"
   ]
  },
  {
   "cell_type": "code",
   "execution_count": 0,
   "metadata": {
    "colab": {
     "base_uri": "https://localhost:8080/",
     "height": 252
    },
    "colab_type": "code",
    "id": "Z5dIyh2Bof6U",
    "outputId": "bef49ac8-43e3-4815-f439-4410c85eec0e"
   },
   "outputs": [
    {
     "name": "stdout",
     "output_type": "stream",
     "text": [
      " Train Accuracy :  0.999964506255001\n",
      " Test Accuracy  :  0.9181715067605278\n",
      "CONFUSION MATRIX\n",
      " [[ 81690  35022]\n",
      " [ 10428 428290]]\n",
      "              precision    recall  f1-score   support\n",
      "\n",
      "         0.0       0.92      0.98      0.95    438718\n",
      "         1.0       0.89      0.70      0.78    116712\n",
      "\n",
      "    accuracy                           0.92    555430\n",
      "   macro avg       0.91      0.84      0.87    555430\n",
      "weighted avg       0.92      0.92      0.91    555430\n",
      "\n"
     ]
    }
   ],
   "source": [
    "print(\" Train Accuracy : \", clf.score(x_train, y_train))\n",
    "print(\" Test Accuracy  : \", metrics.accuracy_score(y_test, y_pred))\n",
    "\n",
    "print(\"CONFUSION MATRIX\\n\",confusion_matrix(y_test, y_pred, labels=[1,0]))\n",
    "\n",
    "print(classification_report(y_test, y_pred))"
   ]
  },
  {
   "cell_type": "markdown",
   "metadata": {
    "colab_type": "text",
    "id": "oHWgFaLt-rRp"
   },
   "source": [
    "## EXTRA TREES CLASSIFIER"
   ]
  },
  {
   "cell_type": "code",
   "execution_count": 0,
   "metadata": {
    "colab": {},
    "colab_type": "code",
    "id": "yBJQ-105yW-8"
   },
   "outputs": [],
   "source": [
    "ex = ExtraTreesClassifier(criterion='entropy')\n",
    "clf = ex.fit(x_train,y_train)\n",
    "y_pred = ex.predict(x_test)"
   ]
  },
  {
   "cell_type": "code",
   "execution_count": 0,
   "metadata": {
    "colab": {
     "base_uri": "https://localhost:8080/",
     "height": 252
    },
    "colab_type": "code",
    "id": "3WsWqo760C6c",
    "outputId": "ba563174-8217-45ea-f29f-05934f739057"
   },
   "outputs": [
    {
     "name": "stdout",
     "output_type": "stream",
     "text": [
      " Train Accuracy :  0.9999992283968479\n",
      " Test Accuracy  :  0.912050123327872\n",
      "CONFUSION MATRIX\n",
      " [[ 86705  30007]\n",
      " [ 18843 419875]]\n",
      "              precision    recall  f1-score   support\n",
      "\n",
      "         0.0       0.93      0.96      0.95    438718\n",
      "         1.0       0.82      0.74      0.78    116712\n",
      "\n",
      "    accuracy                           0.91    555430\n",
      "   macro avg       0.88      0.85      0.86    555430\n",
      "weighted avg       0.91      0.91      0.91    555430\n",
      "\n"
     ]
    }
   ],
   "source": [
    "print(\" Train Accuracy : \", clf.score(x_train,y_train))\n",
    "print(\" Test Accuracy  : \", metrics.accuracy_score(y_test, y_pred))\n",
    "\n",
    "print(\"CONFUSION MATRIX\\n\",confusion_matrix(y_test,y_pred,labels=[1,0]))\n",
    "\n",
    "print(classification_report(y_test,y_pred))"
   ]
  },
  {
   "cell_type": "markdown",
   "metadata": {
    "colab_type": "text",
    "id": "jhyrPUKQ-xFC"
   },
   "source": [
    "## XGBOOST CLASSIFIER"
   ]
  },
  {
   "cell_type": "code",
   "execution_count": 0,
   "metadata": {
    "colab": {},
    "colab_type": "code",
    "id": "20wi_kgM3OgE"
   },
   "outputs": [],
   "source": [
    "xg = XGBClassifier()\n",
    "clf = xg.fit(x_train, y_train)\n",
    "y_pred = xg.predict(x_test)"
   ]
  },
  {
   "cell_type": "code",
   "execution_count": 0,
   "metadata": {
    "colab": {
     "base_uri": "https://localhost:8080/",
     "height": 252
    },
    "colab_type": "code",
    "id": "oZXqbaWZMbYA",
    "outputId": "68e3e529-18a3-43d0-b78b-457b3bdd6001"
   },
   "outputs": [
    {
     "name": "stdout",
     "output_type": "stream",
     "text": [
      " Train Accuracy :  0.9174315182912385\n",
      " Test Accuracy  :  0.9167581873503412\n",
      "CONFUSION MATRIX\n",
      " [[ 79500  37212]\n",
      " [  9023 429695]]\n",
      "              precision    recall  f1-score   support\n",
      "\n",
      "         0.0       0.92      0.98      0.95    438718\n",
      "         1.0       0.90      0.68      0.77    116712\n",
      "\n",
      "    accuracy                           0.92    555430\n",
      "   macro avg       0.91      0.83      0.86    555430\n",
      "weighted avg       0.92      0.92      0.91    555430\n",
      "\n"
     ]
    }
   ],
   "source": [
    "print(\" Train Accuracy : \", clf.score(x_train, y_train))\n",
    "print(\" Test Accuracy  : \", metrics.accuracy_score(y_test, y_pred))\n",
    "\n",
    "print(\"CONFUSION MATRIX\\n\",confusion_matrix(y_test, y_pred, labels=[1,0]))\n",
    "\n",
    "print(classification_report(y_test, y_pred))"
   ]
  },
  {
   "cell_type": "markdown",
   "metadata": {
    "colab_type": "text",
    "id": "rg016UH239Ty"
   },
   "source": [
    "## DECISION TREE CLASSIFIER"
   ]
  },
  {
   "cell_type": "code",
   "execution_count": 0,
   "metadata": {
    "colab": {},
    "colab_type": "code",
    "id": "--pU_vIF4EV5"
   },
   "outputs": [],
   "source": [
    "rf = DecisionTreeClassifier(criterion='entropy')\n",
    "clf = rf.fit(x_train, y_train)\n",
    "y_pred = rf.predict(x_test)"
   ]
  },
  {
   "cell_type": "code",
   "execution_count": 12,
   "metadata": {
    "colab": {
     "base_uri": "https://localhost:8080/",
     "height": 252
    },
    "colab_type": "code",
    "id": "cDA_RqSv4UMi",
    "outputId": "2d012d5c-da3d-4fb4-ef72-849b98e26af5"
   },
   "outputs": [
    {
     "name": "stdout",
     "output_type": "stream",
     "text": [
      " Train Accuracy :  0.9999992798367245\n",
      " Test Accuracy  :  0.8736699513242694\n",
      "CONFUSION MATRIX\n",
      " [[ 69015  28420]\n",
      " [ 30053 335371]]\n",
      "              precision    recall  f1-score   support\n",
      "\n",
      "         0.0       0.92      0.92      0.92    365424\n",
      "         1.0       0.70      0.71      0.70     97435\n",
      "\n",
      "    accuracy                           0.87    462859\n",
      "   macro avg       0.81      0.81      0.81    462859\n",
      "weighted avg       0.87      0.87      0.87    462859\n",
      "\n"
     ]
    }
   ],
   "source": [
    "print(\" Train Accuracy : \", clf.score(x_train, y_train))\n",
    "print(\" Test Accuracy  : \", metrics.accuracy_score(y_test, y_pred))\n",
    "\n",
    "print(\"CONFUSION MATRIX\\n\",confusion_matrix(y_test, y_pred, labels=[1,0]))\n",
    "\n",
    "print(classification_report(y_test, y_pred))"
   ]
  }
 ],
 "metadata": {
  "colab": {
   "collapsed_sections": [],
   "name": "ClasssificationModels.ipynb",
   "provenance": []
  },
  "kernelspec": {
   "display_name": "Python 3",
   "language": "python",
   "name": "python3"
  },
  "language_info": {
   "codemirror_mode": {
    "name": "ipython",
    "version": 3
   },
   "file_extension": ".py",
   "mimetype": "text/x-python",
   "name": "python",
   "nbconvert_exporter": "python",
   "pygments_lexer": "ipython3",
   "version": "3.7.4"
  }
 },
 "nbformat": 4,
 "nbformat_minor": 1
}
