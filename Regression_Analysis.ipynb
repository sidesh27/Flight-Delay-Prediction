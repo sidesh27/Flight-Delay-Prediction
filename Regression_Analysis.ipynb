{
  "nbformat": 4,
  "nbformat_minor": 0,
  "metadata": {
    "colab": {
      "name": "Regression Analysis.ipynb",
      "provenance": [],
      "collapsed_sections": [],
      "mount_file_id": "1aGOJeyllGns7UZy23-wjZAY9ZOBPf5U7",
      "authorship_tag": "ABX9TyNOn++Z3bpvnbdKkjZvVlea",
      "include_colab_link": true
    },
    "kernelspec": {
      "name": "python3",
      "display_name": "Python 3"
    }
  },
  "cells": [
    {
      "cell_type": "markdown",
      "metadata": {
        "id": "view-in-github",
        "colab_type": "text"
      },
      "source": [
        "<a href=\"https://colab.research.google.com/github/sidesh27/Flight-Delay-Prediction/blob/master/Regression_Analysis.ipynb\" target=\"_parent\"><img src=\"https://colab.research.google.com/assets/colab-badge.svg\" alt=\"Open In Colab\"/></a>"
      ]
    },
    {
      "cell_type": "code",
      "metadata": {
        "id": "l86h5Zhp7RD5",
        "colab_type": "code",
        "colab": {}
      },
      "source": [
        "import pandas as pd\n",
        "import numpy as np\n",
        "import matplotlib\n",
        "import matplotlib.pyplot as plt\n",
        "from sklearn import linear_model\n",
        "from sklearn import metrics\n",
        "from sklearn.model_selection import train_test_split\n",
        "from sklearn.preprocessing import StandardScaler\n",
        "from sklearn.feature_selection import SelectKBest\n",
        "from sklearn.feature_selection import chi2\n",
        "from sklearn import preprocessing\n",
        "from sklearn.preprocessing import LabelEncoder\n",
        "from sklearn.preprocessing import StandardScaler\n",
        "from imblearn.over_sampling import SMOTE\n",
        "import seaborn as sns\n",
        "import math\n",
        "from sklearn.svm import LinearSVR\n",
        "from sklearn.linear_model import LinearRegression\n",
        "from sklearn.ensemble import RandomForestRegressor\n",
        "from sklearn.ensemble import ExtraTreesRegressor\n",
        "from xgboost import XGBRegressor\n",
        "from sklearn.utils.validation import column_or_1d\n",
        "from sklearn.metrics import mean_absolute_error\n",
        "from sklearn.metrics import mean_squared_error\n",
        "from sklearn.metrics import r2_score"
      ],
      "execution_count": 3,
      "outputs": []
    },
    {
      "cell_type": "code",
      "metadata": {
        "id": "oQ0M3ZdmOPdS",
        "colab_type": "code",
        "colab": {}
      },
      "source": [
        "df = pd.read_csv(\"drive/My Drive/temp_merged.csv\")"
      ],
      "execution_count": 4,
      "outputs": []
    },
    {
      "cell_type": "code",
      "metadata": {
        "id": "1jwOrmL5VPvt",
        "colab_type": "code",
        "colab": {}
      },
      "source": [
        "df = df[df.ArrDel15==1]"
      ],
      "execution_count": 5,
      "outputs": []
    },
    {
      "cell_type": "code",
      "metadata": {
        "id": "eHSJat-jOepp",
        "colab_type": "code",
        "colab": {}
      },
      "source": [
        "y = df['ArrDelayMinutes']\n",
        "X = df.drop(columns=['Unnamed: 0', 'FlightDate', 'Quarter', 'Year', 'Month', 'DayofMonth',\n",
        "       'Origin', 'Dest','ArrTime','ArrDel15','ArrDelayMinutes'])"
      ],
      "execution_count": 6,
      "outputs": []
    },
    {
      "cell_type": "code",
      "metadata": {
        "id": "q-XsFdqeAkW4",
        "colab_type": "code",
        "colab": {
          "base_uri": "https://localhost:8080/",
          "height": 168
        },
        "outputId": "56af08ab-5030-4985-bba6-6e236a9fcbec"
      },
      "source": [
        "X.columns"
      ],
      "execution_count": 7,
      "outputs": [
        {
          "output_type": "execute_result",
          "data": {
            "text/plain": [
              "Index(['DepTime', 'DepDel15', 'CRSDepTime', 'DepDelayMinutes',\n",
              "       'OriginAirportID', 'DestAirportID', 'CRSArrTime', 'windspeedKmph_x',\n",
              "       'DewPointF_x', 'cloudcover_x', 'precipMM_x', 'pressure_x',\n",
              "       'WindGustKmph_x', 'visibility_x', 'weatherCode_x', 'tempF_x',\n",
              "       'WindChillF_x', 'winddirDegree_x', 'humidity_x', 'windspeedKmph_y',\n",
              "       'DewPointF_y', 'cloudcover_y', 'precipMM_y', 'pressure_y',\n",
              "       'WindGustKmph_y', 'visibility_y', 'weatherCode_y', 'tempF_y',\n",
              "       'WindChillF_y', 'winddirDegree_y', 'humidity_y'],\n",
              "      dtype='object')"
            ]
          },
          "metadata": {
            "tags": []
          },
          "execution_count": 7
        }
      ]
    },
    {
      "cell_type": "code",
      "metadata": {
        "id": "8Z-MmWn0XD8-",
        "colab_type": "code",
        "colab": {}
      },
      "source": [
        "x_train, x_test, y_train, y_test = train_test_split(X, y, train_size=0.7)"
      ],
      "execution_count": 8,
      "outputs": []
    },
    {
      "cell_type": "code",
      "metadata": {
        "id": "NVZqLAFqzASJ",
        "colab_type": "code",
        "colab": {}
      },
      "source": [
        "new_df = pd.concat([x_test,y_test],axis=1)"
      ],
      "execution_count": 9,
      "outputs": []
    },
    {
      "cell_type": "markdown",
      "metadata": {
        "id": "wYGn-Y4g8JM4",
        "colab_type": "text"
      },
      "source": [
        "REGRSSION - LINEAR REGRESSOR"
      ]
    },
    {
      "cell_type": "code",
      "metadata": {
        "id": "nE6jc6L1zWGL",
        "colab_type": "code",
        "colab": {}
      },
      "source": [
        "xg = LinearRegression()\n",
        "reg = xg.fit(x_train,y_train)"
      ],
      "execution_count": 10,
      "outputs": []
    },
    {
      "cell_type": "markdown",
      "metadata": {
        "id": "eY2KjPYs8OSZ",
        "colab_type": "text"
      },
      "source": [
        "##REGRESSION ANALYSIS "
      ]
    },
    {
      "cell_type": "markdown",
      "metadata": {
        "id": "4xW7RPdv8Yit",
        "colab_type": "text"
      },
      "source": [
        "TO CHECK PERFORMANCE OF REGRESSOR IN DIFFERENT INTERVALS OF DELAY TIME "
      ]
    },
    {
      "cell_type": "code",
      "metadata": {
        "id": "k8sn3wS1zZ41",
        "colab_type": "code",
        "colab": {}
      },
      "source": [
        " def reg_analysis(a,b): \n",
        "  rx_test1 = new_df[(new_df.ArrDelayMinutes>=a) & (new_df.ArrDelayMinutes<=b) ]\n",
        "  ry_test1 = rx_test1['ArrDelayMinutes']\n",
        "  rx_test1 = rx_test1.drop(columns=['ArrDelayMinutes'])\n",
        "  y_pred = xg.predict(rx_test1)\n",
        "  print(\"MAE : \",mean_absolute_error(ry_test1, y_pred))\n",
        "  print(\"RMSE : \",math.sqrt(mean_squared_error(ry_test1, y_pred)))\n",
        "  print(\"R2_SCORE : \",r2_score(ry_test1,y_pred))"
      ],
      "execution_count": 11,
      "outputs": []
    },
    {
      "cell_type": "code",
      "metadata": {
        "id": "DDOl-WK8teif",
        "colab_type": "code",
        "colab": {
          "base_uri": "https://localhost:8080/",
          "height": 67
        },
        "outputId": "c7304e15-11d5-44fa-91e0-46926b803e1c"
      },
      "source": [
        "reg_analysis(0.0,100.0)"
      ],
      "execution_count": 12,
      "outputs": [
        {
          "output_type": "stream",
          "text": [
            "MAE :  11.000844441619206\n",
            "RMSE :  14.679854849986677\n",
            "R2_SCORE :  0.5645756839625085\n"
          ],
          "name": "stdout"
        }
      ]
    },
    {
      "cell_type": "code",
      "metadata": {
        "id": "r_CuMaSfthyZ",
        "colab_type": "code",
        "colab": {
          "base_uri": "https://localhost:8080/",
          "height": 67
        },
        "outputId": "255b7d9b-0e52-41da-e773-ada3d4ba9c19"
      },
      "source": [
        "reg_analysis(100.0,200.0)"
      ],
      "execution_count": 13,
      "outputs": [
        {
          "output_type": "stream",
          "text": [
            "MAE :  17.868081558125077\n",
            "RMSE :  27.050544008823934\n",
            "R2_SCORE :  -0.003827125663399711\n"
          ],
          "name": "stdout"
        }
      ]
    },
    {
      "cell_type": "code",
      "metadata": {
        "id": "EZuaQHjI1SL-",
        "colab_type": "code",
        "colab": {
          "base_uri": "https://localhost:8080/",
          "height": 67
        },
        "outputId": "37b59f3b-fde5-45ed-ac61-bb1e71d0ce7e"
      },
      "source": [
        "reg_analysis(200.0,500.0)"
      ],
      "execution_count": 14,
      "outputs": [
        {
          "output_type": "stream",
          "text": [
            "MAE :  19.560439187991292\n",
            "RMSE :  31.14167588032571\n",
            "R2_SCORE :  0.7694164293611163\n"
          ],
          "name": "stdout"
        }
      ]
    },
    {
      "cell_type": "code",
      "metadata": {
        "id": "OeETFMLeuGvb",
        "colab_type": "code",
        "colab": {
          "base_uri": "https://localhost:8080/",
          "height": 67
        },
        "outputId": "3c62e336-6bb9-4618-ae0d-6bbfd2ca9380"
      },
      "source": [
        "reg_analysis(200.0,1000.0)"
      ],
      "execution_count": 15,
      "outputs": [
        {
          "output_type": "stream",
          "text": [
            "MAE :  19.66479451556453\n",
            "RMSE :  31.112463037214972\n",
            "R2_SCORE :  0.9402411622821892\n"
          ],
          "name": "stdout"
        }
      ]
    },
    {
      "cell_type": "code",
      "metadata": {
        "id": "-w2vovEJvdpF",
        "colab_type": "code",
        "colab": {
          "base_uri": "https://localhost:8080/",
          "height": 67
        },
        "outputId": "12e25695-dd06-4b18-b637-8faa7e6d19e5"
      },
      "source": [
        "reg_analysis(500.0,1000.0)"
      ],
      "execution_count": 16,
      "outputs": [
        {
          "output_type": "stream",
          "text": [
            "MAE :  21.042315576830266\n",
            "RMSE :  30.668214143751253\n",
            "R2_SCORE :  0.9483969557060996\n"
          ],
          "name": "stdout"
        }
      ]
    },
    {
      "cell_type": "code",
      "metadata": {
        "id": "UAXlzjyPvoep",
        "colab_type": "code",
        "colab": {
          "base_uri": "https://localhost:8080/",
          "height": 67
        },
        "outputId": "bee4f6b9-902b-415b-92a5-f90f1623f610"
      },
      "source": [
        "reg_analysis(1000.0,2000.0)"
      ],
      "execution_count": 17,
      "outputs": [
        {
          "output_type": "stream",
          "text": [
            "MAE :  33.030050162717934\n",
            "RMSE :  42.53609595091211\n",
            "R2_SCORE :  0.9455758961189109\n"
          ],
          "name": "stdout"
        }
      ]
    },
    {
      "cell_type": "markdown",
      "metadata": {
        "id": "HObsav_e8mY-",
        "colab_type": "text"
      },
      "source": [
        "##BOX PLOT DISTRIBUTION OF DELAY MINUTES"
      ]
    },
    {
      "cell_type": "code",
      "metadata": {
        "id": "XzIuWhY10VxH",
        "colab_type": "code",
        "colab": {
          "base_uri": "https://localhost:8080/",
          "height": 296
        },
        "outputId": "66de5a2a-1f5f-4061-8aaa-31ecc43965e8"
      },
      "source": [
        "ax = sns.boxplot (x='ArrDelayMinutes',data=df)\n",
        "ax.set_xlim([0,200]) \n",
        "ax.set_xlabel('Arrival Delay (in minutes)')"
      ],
      "execution_count": 18,
      "outputs": [
        {
          "output_type": "execute_result",
          "data": {
            "text/plain": [
              "Text(0.5, 0, 'Arrival Delay (in minutes)')"
            ]
          },
          "metadata": {
            "tags": []
          },
          "execution_count": 18
        },
        {
          "output_type": "display_data",
          "data": {
            "image/png": "[encoded data removed]",
            "text/plain": [
              "<Figure size 432x288 with 1 Axes>"
            ]
          },
          "metadata": {
            "tags": [],
            "needs_background": "light"
          }
        }
      ]
    },
    {
      "cell_type": "markdown",
      "metadata": {
        "id": "QW9o7JGN8y74",
        "colab_type": "text"
      },
      "source": [
        "##HISTOGRAM PLOT OF DELAY MINUTES"
      ]
    },
    {
      "cell_type": "code",
      "metadata": {
        "id": "B2b6jw_3dnxm",
        "colab_type": "code",
        "colab": {
          "base_uri": "https://localhost:8080/",
          "height": 534
        },
        "outputId": "bad957c7-1be9-46c5-9dc2-5e30ddc3f55c"
      },
      "source": [
        "plt.figure(figsize=[10,8])\n",
        "\n",
        "plt.hist(df['ArrDelayMinutes'],bins=[0,100,200,500,1000,2000])"
      ],
      "execution_count": 19,
      "outputs": [
        {
          "output_type": "execute_result",
          "data": {
            "text/plain": [
              "(array([3.23567e+05, 4.89550e+04, 1.42320e+04, 1.12900e+03, 1.73000e+02]),\n",
              " array([   0,  100,  200,  500, 1000, 2000]),\n",
              " <a list of 5 Patch objects>)"
            ]
          },
          "metadata": {
            "tags": []
          },
          "execution_count": 19
        },
        {
          "output_type": "display_data",
          "data": {
            "image/png": "[encoded data removed]",
            "text/plain": [
              "<Figure size 720x576 with 1 Axes>"
            ]
          },
          "metadata": {
            "tags": [],
            "needs_background": "light"
          }
        }
      ]
    },
    {
      "cell_type": "markdown",
      "metadata": {
        "id": "NTnNINzU9CA2",
        "colab_type": "text"
      },
      "source": [
        "##PIE CHART TO SHOW DISTRIBUTION OF DELAY"
      ]
    },
    {
      "cell_type": "code",
      "metadata": {
        "id": "LYD0V2OBjOLR",
        "colab_type": "code",
        "colab": {}
      },
      "source": [
        "bins=[0,100,200,500,1000,2000]\n",
        "sizes=[]\n",
        "a=df[ (df['ArrDelayMinutes']>=0) & (df['ArrDelayMinutes'] <=100)]\n",
        "sizes.append(a.shape[0])\n",
        "a=df[ (df['ArrDelayMinutes']>=101) & (df['ArrDelayMinutes'] <=200)]\n",
        "sizes.append(a.shape[0])\n",
        "a=df[ (df['ArrDelayMinutes']>=201) & (df['ArrDelayMinutes'] <=500)]\n",
        "sizes.append(a.shape[0])\n",
        "a=df[ (df['ArrDelayMinutes']>=501) & (df['ArrDelayMinutes'] <=1000)]\n",
        "sizes.append(a.shape[0])\n",
        "a=df[ (df['ArrDelayMinutes']>=1001) & (df['ArrDelayMinutes'] <=2000)]\n",
        "sizes.append(a.shape[0])"
      ],
      "execution_count": 20,
      "outputs": []
    },
    {
      "cell_type": "code",
      "metadata": {
        "id": "nGdsGB1ccEJa",
        "colab_type": "code",
        "colab": {
          "base_uri": "https://localhost:8080/",
          "height": 297
        },
        "outputId": "1d19eba6-eb00-4127-c36e-8557a0837171"
      },
      "source": [
        "import matplotlib.pyplot as plt\n",
        "\n",
        "# Pie chart, where the slices will be ordered and plotted counter-clockwise:\n",
        "labels = '0-100', '100-200', '200-500', '500-1000','1000-2000'\n",
        "explode = (0.1, 0.1, 0.1, 0.1,0.1)  # only \"explode\" the 2nd slice (i.e. 'Hogs')\n",
        "\n",
        "patches, texts = plt.pie(sizes, explode=explode, startangle=90)\n",
        "plt.legend(patches, labels, loc=\"best\")\n",
        "plt.axis('equal')\n",
        "plt.tight_layout()\n",
        "plt.show()"
      ],
      "execution_count": 21,
      "outputs": [
        {
          "output_type": "display_data",
          "data": {
            "image/png": "[encoded data removed]",
            "text/plain": [
              "<Figure size 432x288 with 1 Axes>"
            ]
          },
          "metadata": {
            "tags": []
          }
        }
      ]
    }
  ]
}