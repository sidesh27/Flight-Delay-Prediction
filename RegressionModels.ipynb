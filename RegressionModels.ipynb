{
 "cells": [
  {
   "cell_type": "code",
   "execution_count": 0,
   "metadata": {
    "colab": {},
    "colab_type": "code",
    "id": "mbFTXUGfOGL2"
   },
   "outputs": [],
   "source": [
    "import pandas as pd\n",
    "import numpy as np\n",
    "import matplotlib\n",
    "import matplotlib.pyplot as plt\n",
    "from sklearn import linear_model\n",
    "from sklearn import metrics\n",
    "from sklearn.model_selection import train_test_split\n",
    "from sklearn.preprocessing import StandardScaler\n",
    "from sklearn.feature_selection import SelectKBest\n",
    "from sklearn.feature_selection import chi2\n",
    "from sklearn import preprocessing\n",
    "from sklearn.preprocessing import LabelEncoder\n",
    "from sklearn.preprocessing import StandardScaler\n",
    "from imblearn.over_sampling import SMOTE\n",
    "import seaborn as sns\n",
    "import math\n",
    "from sklearn.svm import LinearSVR\n",
    "from sklearn.linear_model import LinearRegression\n",
    "from sklearn.ensemble import RandomForestRegressor\n",
    "from sklearn.ensemble import ExtraTreesRegressor\n",
    "from xgboost import XGBRegressor\n",
    "from sklearn.utils.validation import column_or_1d\n",
    "from sklearn.metrics import mean_absolute_error\n",
    "from sklearn.metrics import mean_squared_error\n",
    "from sklearn.metrics import r2_score"
   ]
  },
  {
   "cell_type": "code",
   "execution_count": 0,
   "metadata": {
    "colab": {},
    "colab_type": "code",
    "id": "oQ0M3ZdmOPdS"
   },
   "outputs": [],
   "source": [
    "df = pd.read_csv(\"drive/My Drive/temp_merged.csv\")"
   ]
  },
  {
   "cell_type": "code",
   "execution_count": 0,
   "metadata": {
    "colab": {},
    "colab_type": "code",
    "id": "1jwOrmL5VPvt"
   },
   "outputs": [],
   "source": [
    "df = df[df.ArrDel15==1]"
   ]
  },
  {
   "cell_type": "code",
   "execution_count": 0,
   "metadata": {
    "colab": {},
    "colab_type": "code",
    "id": "eHSJat-jOepp"
   },
   "outputs": [],
   "source": [
    "y = df['ArrDelayMinutes']\n",
    "X = df.drop(columns=['Unnamed: 0', 'FlightDate', 'Quarter', 'Year', 'Month', 'DayofMonth',\n",
    "       'Origin', 'Dest','ArrTime','ArrDel15','ArrDelayMinutes'])"
   ]
  },
  {
   "cell_type": "code",
   "execution_count": 0,
   "metadata": {
    "colab": {},
    "colab_type": "code",
    "id": "8Z-MmWn0XD8-"
   },
   "outputs": [],
   "source": [
    "x_train, x_test, y_train, y_test = train_test_split(X, y, train_size=0.7)"
   ]
  },
  {
   "cell_type": "markdown",
   "metadata": {
    "colab_type": "text",
    "id": "jHHkFgdT4-DJ"
   },
   "source": [
    "## LINEAR REGRESSOR"
   ]
  },
  {
   "cell_type": "code",
   "execution_count": 0,
   "metadata": {
    "colab": {},
    "colab_type": "code",
    "id": "ybPXTNG9V2K0"
   },
   "outputs": [],
   "source": [
    "lr = LinearRegression()\n",
    "reg = lr.fit(x_train,y_train)\n",
    "y_pred = lr.predict(x_test)"
   ]
  },
  {
   "cell_type": "code",
   "execution_count": 0,
   "metadata": {
    "colab": {
     "base_uri": "https://localhost:8080/",
     "height": 67
    },
    "colab_type": "code",
    "id": "Msr0vl2VXWjW",
    "outputId": "c1037fc1-682d-43b7-ec68-fda8a47f019a"
   },
   "outputs": [
    {
     "name": "stdout",
     "output_type": "stream",
     "text": [
      "MAE :  12.137192008152338\n",
      "RMSE :  17.45942618907141\n",
      "R2_SCORE :  0.9380992236379453\n"
     ]
    }
   ],
   "source": [
    "print(\"MAE : \",mean_absolute_error(y_test, y_pred))\n",
    "print(\"RMSE : \",math.sqrt(mean_squared_error(y_test, y_pred)))\n",
    "print(\"R2_SCORE : \",r2_score(y_test,y_pred))"
   ]
  },
  {
   "cell_type": "markdown",
   "metadata": {
    "colab_type": "text",
    "id": "DAQu2WsX5GIG"
   },
   "source": [
    "## SGD REGRESSOR - (OPTIMIZED VERSION OF SVR)"
   ]
  },
  {
   "cell_type": "code",
   "execution_count": 0,
   "metadata": {
    "colab": {},
    "colab_type": "code",
    "id": "s96txjN9eo3i"
   },
   "outputs": [],
   "source": [
    "#SCALING DATA TO PERFORM SVR\n",
    "sc_x = StandardScaler()\n",
    "sc_x_train = sc_x.fit_transform(x_train)\n",
    "sc_x_test = sc_x.fit_transform(x_test)"
   ]
  },
  {
   "cell_type": "code",
   "execution_count": 0,
   "metadata": {
    "colab": {},
    "colab_type": "code",
    "id": "dwzp4JDWepdo"
   },
   "outputs": [],
   "source": [
    "lr = SGDRegressor()\n",
    "reg = lr.fit(sc_x_train,y_train)\n",
    "y_pred = lr.predict(scx_test)"
   ]
  },
  {
   "cell_type": "code",
   "execution_count": 0,
   "metadata": {
    "colab": {
     "base_uri": "https://localhost:8080/",
     "height": 67
    },
    "colab_type": "code",
    "id": "wA8bsGSVgXSs",
    "outputId": "2709972e-5613-457b-dd14-d3a657b71f5e"
   },
   "outputs": [
    {
     "name": "stdout",
     "output_type": "stream",
     "text": [
      "MAE :  12.201905308953991\n",
      "RMSE :  17.71536899051864\n",
      "R2_SCORE :  0.9401544530750341\n"
     ]
    }
   ],
   "source": [
    "print(\"MAE : \",mean_absolute_error(y_test, y_pred))\n",
    "print(\"RMSE : \",math.sqrt(mean_squared_error(y_test, y_pred)))\n",
    "print(\"R2_SCORE : \",r2_score(y_test,y_pred))"
   ]
  },
  {
   "cell_type": "markdown",
   "metadata": {
    "colab_type": "text",
    "id": "dltPlgB34p-p"
   },
   "source": [
    "## RANDOM FOREST REGRESSOR"
   ]
  },
  {
   "cell_type": "code",
   "execution_count": 0,
   "metadata": {
    "colab": {},
    "colab_type": "code",
    "id": "munqVfR8uYH5"
   },
   "outputs": [],
   "source": [
    "rfr = RandomForestRegressor()\n",
    "reg = rfr.fit(x_train,y_train)\n",
    "y_pred = rfr.predict(x_test)"
   ]
  },
  {
   "cell_type": "code",
   "execution_count": 0,
   "metadata": {
    "colab": {
     "base_uri": "https://localhost:8080/",
     "height": 67
    },
    "colab_type": "code",
    "id": "9-yPU99CvGlV",
    "outputId": "32c4e030-518c-451f-f1ca-fae9f57a18d4"
   },
   "outputs": [
    {
     "name": "stdout",
     "output_type": "stream",
     "text": [
      "MAE :  11.662096668899999\n",
      "RMSE :  16.627793945766236\n",
      "R2_SCORE :  0.9470157615381897\n"
     ]
    }
   ],
   "source": [
    "print(\"MAE : \",mean_absolute_error(y_test, y_pred))\n",
    "print(\"RMSE : \",math.sqrt(mean_squared_error(y_test, y_pred)))\n",
    "print(\"R2_SCORE : \",r2_score(y_test,y_pred))"
   ]
  },
  {
   "cell_type": "markdown",
   "metadata": {
    "colab_type": "text",
    "id": "j2-I8KOF4Zn-"
   },
   "source": [
    "## EXTRA TREES REGRESSOR"
   ]
  },
  {
   "cell_type": "code",
   "execution_count": 0,
   "metadata": {
    "colab": {},
    "colab_type": "code",
    "id": "9pn82sGGzWzS"
   },
   "outputs": [],
   "source": [
    "exr = ExtraTreesRegressor()\n",
    "reg = exr.fit(x_train,y_train)\n",
    "y_pred = exr.predict(x_test)"
   ]
  },
  {
   "cell_type": "code",
   "execution_count": 0,
   "metadata": {
    "colab": {
     "base_uri": "https://localhost:8080/",
     "height": 67
    },
    "colab_type": "code",
    "id": "_EY2gZl_zrGb",
    "outputId": "294739af-80ff-4848-e14a-e7b8f3f0a1c2"
   },
   "outputs": [
    {
     "name": "stdout",
     "output_type": "stream",
     "text": [
      "MAE :  11.707856946520298\n",
      "RMSE :  16.688249706363834\n",
      "R2_SCORE :  0.946629778215419\n"
     ]
    }
   ],
   "source": [
    "print(\"MAE : \",mean_absolute_error(y_test, y_pred))\n",
    "print(\"RMSE : \",math.sqrt(mean_squared_error(y_test, y_pred)))\n",
    "print(\"R2_SCORE : \",r2_score(y_test,y_pred))"
   ]
  },
  {
   "cell_type": "markdown",
   "metadata": {
    "colab_type": "text",
    "id": "GP02b2LS4fBJ"
   },
   "source": [
    "## XGB REGRESSOR"
   ]
  },
  {
   "cell_type": "code",
   "execution_count": 0,
   "metadata": {
    "colab": {},
    "colab_type": "code",
    "id": "DA9-MKYL3UXM"
   },
   "outputs": [],
   "source": [
    "xg = XGBRegressor()\n",
    "reg = xg.fit(x_train,y_train)\n",
    "y_pred = xg.predict(x_test)"
   ]
  },
  {
   "cell_type": "code",
   "execution_count": 0,
   "metadata": {
    "colab": {
     "base_uri": "https://localhost:8080/",
     "height": 67
    },
    "colab_type": "code",
    "id": "Sc-06CjSV020",
    "outputId": "6fa11abe-f144-4aa2-845a-0d070ea3f302"
   },
   "outputs": [
    {
     "name": "stdout",
     "output_type": "stream",
     "text": [
      "MAE :  11.62084687193372\n",
      "RMSE :  16.88565251531683\n",
      "R2_SCORE :  0.945359693826245\n"
     ]
    }
   ],
   "source": [
    "print(\"MAE : \",mean_absolute_error(y_test, y_pred))\n",
    "print(\"RMSE : \",math.sqrt(mean_squared_error(y_test, y_pred)))\n",
    "print(\"R2_SCORE : \",r2_score(y_test,y_pred))"
   ]
  }
 ],
 "metadata": {
  "colab": {
   "name": "RegressionModels.ipynb",
   "provenance": []
  },
  "kernelspec": {
   "display_name": "Python 3",
   "language": "python",
   "name": "python3"
  },
  "language_info": {
   "codemirror_mode": {
    "name": "ipython",
    "version": 3
   },
   "file_extension": ".py",
   "mimetype": "text/x-python",
   "name": "python",
   "nbconvert_exporter": "python",
   "pygments_lexer": "ipython3",
   "version": "3.7.4"
  }
 },
 "nbformat": 4,
 "nbformat_minor": 1
}
