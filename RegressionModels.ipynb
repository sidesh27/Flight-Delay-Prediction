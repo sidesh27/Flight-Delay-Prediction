{
  "nbformat": 4,
  "nbformat_minor": 0,
  "metadata": {
    "colab": {
      "name": "RegressionModels.ipynb",
      "provenance": []
    },
    "kernelspec": {
      "name": "python3",
      "display_name": "Python 3"
    }
  },
  "cells": [
    {
      "cell_type": "code",
      "metadata": {
        "id": "mbFTXUGfOGL2",
        "colab_type": "code",
        "colab": {}
      },
      "source": [
        "import pandas as pd\n",
        "import numpy as np\n",
        "import matplotlib\n",
        "import matplotlib.pyplot as plt\n",
        "from sklearn import linear_model\n",
        "from sklearn import metrics\n",
        "from sklearn.model_selection import train_test_split\n",
        "from sklearn.preprocessing import StandardScaler\n",
        "from sklearn.feature_selection import SelectKBest\n",
        "from sklearn.feature_selection import chi2\n",
        "from sklearn import preprocessing\n",
        "from sklearn.preprocessing import LabelEncoder\n",
        "from sklearn.preprocessing import StandardScaler\n",
        "from imblearn.over_sampling import SMOTE\n",
        "import seaborn as sns\n",
        "import math\n",
        "from sklearn.svm import LinearSVR\n",
        "from sklearn.linear_model import LinearRegression\n",
        "from sklearn.ensemble import RandomForestRegressor\n",
        "from sklearn.ensemble import ExtraTreesRegressor\n",
        "from xgboost import XGBRegressor\n",
        "from sklearn.utils.validation import column_or_1d\n",
        "from sklearn.metrics import mean_absolute_error\n",
        "from sklearn.metrics import mean_squared_error\n",
        "from sklearn.metrics import r2_score"
      ],
      "execution_count": 0,
      "outputs": []
    },
    {
      "cell_type": "code",
      "metadata": {
        "id": "oQ0M3ZdmOPdS",
        "colab_type": "code",
        "colab": {}
      },
      "source": [
        "df = pd.read_csv(\"drive/My Drive/temp_merged.csv\")"
      ],
      "execution_count": 0,
      "outputs": []
    },
    {
      "cell_type": "code",
      "metadata": {
        "id": "1jwOrmL5VPvt",
        "colab_type": "code",
        "colab": {}
      },
      "source": [
        "df = df[df.ArrDel15==1]"
      ],
      "execution_count": 0,
      "outputs": []
    },
    {
      "cell_type": "code",
      "metadata": {
        "id": "eHSJat-jOepp",
        "colab_type": "code",
        "colab": {}
      },
      "source": [
        "y = df['ArrDelayMinutes']\n",
        "X = df.drop(columns=['Unnamed: 0', 'FlightDate', 'Quarter', 'Year', 'Month', 'DayofMonth',\n",
        "       'Origin', 'Dest','ArrTime','ArrDel15','ArrDelayMinutes'])"
      ],
      "execution_count": 0,
      "outputs": []
    },
    {
      "cell_type": "code",
      "metadata": {
        "id": "8Z-MmWn0XD8-",
        "colab_type": "code",
        "colab": {}
      },
      "source": [
        "x_train, x_test, y_train, y_test = train_test_split(X, y, train_size=0.7)"
      ],
      "execution_count": 0,
      "outputs": []
    },
    {
      "cell_type": "markdown",
      "metadata": {
        "id": "jHHkFgdT4-DJ",
        "colab_type": "text"
      },
      "source": [
        "LINEAR REGRESSOR"
      ]
    },
    {
      "cell_type": "code",
      "metadata": {
        "id": "ybPXTNG9V2K0",
        "colab_type": "code",
        "colab": {}
      },
      "source": [
        "lr = LinearRegression()\n",
        "reg = lr.fit(x_train,y_train)\n",
        "y_pred = lr.predict(x_test)"
      ],
      "execution_count": 0,
      "outputs": []
    },
    {
      "cell_type": "code",
      "metadata": {
        "id": "Msr0vl2VXWjW",
        "colab_type": "code",
        "outputId": "c1037fc1-682d-43b7-ec68-fda8a47f019a",
        "colab": {
          "base_uri": "https://localhost:8080/",
          "height": 67
        }
      },
      "source": [
        "print(\"MAE : \",mean_absolute_error(y_test, y_pred))\n",
        "print(\"RMSE : \",math.sqrt(mean_squared_error(y_test, y_pred)))\n",
        "print(\"R2_SCORE : \",r2_score(y_test,y_pred))"
      ],
      "execution_count": 0,
      "outputs": [
        {
          "output_type": "stream",
          "text": [
            "MAE :  12.137192008152338\n",
            "RMSE :  17.45942618907141\n",
            "R2_SCORE :  0.9380992236379453\n"
          ],
          "name": "stdout"
        }
      ]
    },
    {
      "cell_type": "markdown",
      "metadata": {
        "id": "DAQu2WsX5GIG",
        "colab_type": "text"
      },
      "source": [
        "SGD REGRESSOR - (OPTIMIZED VERSION OF SVR)"
      ]
    },
    {
      "cell_type": "code",
      "metadata": {
        "colab_type": "code",
        "id": "s96txjN9eo3i",
        "colab": {}
      },
      "source": [
        "#SCALING DATA TO PERFORM SVR\n",
        "sc_x = StandardScaler()\n",
        "sc_x_train = sc_x.fit_transform(x_train)\n",
        "sc_x_test = sc_x.fit_transform(x_test)"
      ],
      "execution_count": 0,
      "outputs": []
    },
    {
      "cell_type": "code",
      "metadata": {
        "id": "dwzp4JDWepdo",
        "colab_type": "code",
        "colab": {}
      },
      "source": [
        "lr = SGDRegressor()\n",
        "reg = lr.fit(sc_x_train,y_train)\n",
        "y_pred = lr.predict(scx_test)"
      ],
      "execution_count": 0,
      "outputs": []
    },
    {
      "cell_type": "code",
      "metadata": {
        "id": "wA8bsGSVgXSs",
        "colab_type": "code",
        "outputId": "2709972e-5613-457b-dd14-d3a657b71f5e",
        "colab": {
          "base_uri": "https://localhost:8080/",
          "height": 67
        }
      },
      "source": [
        "print(\"MAE : \",mean_absolute_error(y_test, y_pred))\n",
        "print(\"RMSE : \",math.sqrt(mean_squared_error(y_test, y_pred)))\n",
        "print(\"R2_SCORE : \",r2_score(y_test,y_pred))"
      ],
      "execution_count": 0,
      "outputs": [
        {
          "output_type": "stream",
          "text": [
            "MAE :  12.201905308953991\n",
            "RMSE :  17.71536899051864\n",
            "R2_SCORE :  0.9401544530750341\n"
          ],
          "name": "stdout"
        }
      ]
    },
    {
      "cell_type": "markdown",
      "metadata": {
        "id": "dltPlgB34p-p",
        "colab_type": "text"
      },
      "source": [
        "RANDOM FOREST REGRESSOR"
      ]
    },
    {
      "cell_type": "code",
      "metadata": {
        "id": "munqVfR8uYH5",
        "colab_type": "code",
        "colab": {}
      },
      "source": [
        "rfr = RandomForestRegressor()\n",
        "reg = rfr.fit(x_train,y_train)\n",
        "y_pred = rfr.predict(x_test)"
      ],
      "execution_count": 0,
      "outputs": []
    },
    {
      "cell_type": "code",
      "metadata": {
        "id": "9-yPU99CvGlV",
        "colab_type": "code",
        "outputId": "32c4e030-518c-451f-f1ca-fae9f57a18d4",
        "colab": {
          "base_uri": "https://localhost:8080/",
          "height": 67
        }
      },
      "source": [
        "print(\"MAE : \",mean_absolute_error(y_test, y_pred))\n",
        "print(\"RMSE : \",math.sqrt(mean_squared_error(y_test, y_pred)))\n",
        "print(\"R2_SCORE : \",r2_score(y_test,y_pred))"
      ],
      "execution_count": 0,
      "outputs": [
        {
          "output_type": "stream",
          "text": [
            "MAE :  11.662096668899999\n",
            "RMSE :  16.627793945766236\n",
            "R2_SCORE :  0.9470157615381897\n"
          ],
          "name": "stdout"
        }
      ]
    },
    {
      "cell_type": "markdown",
      "metadata": {
        "id": "j2-I8KOF4Zn-",
        "colab_type": "text"
      },
      "source": [
        "EXTRA TREES REGRESSOR"
      ]
    },
    {
      "cell_type": "code",
      "metadata": {
        "id": "9pn82sGGzWzS",
        "colab_type": "code",
        "colab": {}
      },
      "source": [
        "exr = ExtraTreesRegressor()\n",
        "reg = exr.fit(x_train,y_train)\n",
        "y_pred = exr.predict(x_test)"
      ],
      "execution_count": 0,
      "outputs": []
    },
    {
      "cell_type": "code",
      "metadata": {
        "id": "_EY2gZl_zrGb",
        "colab_type": "code",
        "outputId": "294739af-80ff-4848-e14a-e7b8f3f0a1c2",
        "colab": {
          "base_uri": "https://localhost:8080/",
          "height": 67
        }
      },
      "source": [
        "print(\"MAE : \",mean_absolute_error(y_test, y_pred))\n",
        "print(\"RMSE : \",math.sqrt(mean_squared_error(y_test, y_pred)))\n",
        "print(\"R2_SCORE : \",r2_score(y_test,y_pred))"
      ],
      "execution_count": 0,
      "outputs": [
        {
          "output_type": "stream",
          "text": [
            "MAE :  11.707856946520298\n",
            "RMSE :  16.688249706363834\n",
            "R2_SCORE :  0.946629778215419\n"
          ],
          "name": "stdout"
        }
      ]
    },
    {
      "cell_type": "markdown",
      "metadata": {
        "id": "GP02b2LS4fBJ",
        "colab_type": "text"
      },
      "source": [
        "XGB REGRESSOR"
      ]
    },
    {
      "cell_type": "code",
      "metadata": {
        "id": "DA9-MKYL3UXM",
        "colab_type": "code",
        "colab": {}
      },
      "source": [
        "xg = XGBRegressor()\n",
        "reg = xg.fit(x_train,y_train)\n",
        "y_pred = xg.predict(x_test)"
      ],
      "execution_count": 0,
      "outputs": []
    },
    {
      "cell_type": "code",
      "metadata": {
        "colab_type": "code",
        "outputId": "6fa11abe-f144-4aa2-845a-0d070ea3f302",
        "id": "Sc-06CjSV020",
        "colab": {
          "base_uri": "https://localhost:8080/",
          "height": 67
        }
      },
      "source": [
        "print(\"MAE : \",mean_absolute_error(y_test, y_pred))\n",
        "print(\"RMSE : \",math.sqrt(mean_squared_error(y_test, y_pred)))\n",
        "print(\"R2_SCORE : \",r2_score(y_test,y_pred))"
      ],
      "execution_count": 0,
      "outputs": [
        {
          "output_type": "stream",
          "text": [
            "MAE :  11.62084687193372\n",
            "RMSE :  16.88565251531683\n",
            "R2_SCORE :  0.945359693826245\n"
          ],
          "name": "stdout"
        }
      ]
    }
  ]
}