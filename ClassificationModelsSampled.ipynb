{
 "cells": [
  {
   "cell_type": "code",
   "execution_count": 123,
   "metadata": {},
   "outputs": [],
   "source": [
    "import pandas as pd\n",
    "import numpy as np\n",
    "from sklearn.ensemble import RandomForestClassifier\n",
    "from sklearn.tree import DecisionTreeClassifier\n",
    "import pandas as pd\n",
    "import numpy as np\n",
    "import matplotlib\n",
    "import matplotlib.pyplot as plt\n",
    "from sklearn import linear_model\n",
    "from sklearn import metrics\n",
    "from sklearn.model_selection import train_test_split\n",
    "from sklearn.feature_selection import RFE\n",
    "from sklearn.metrics import confusion_matrix\n",
    "from sklearn.metrics import classification_report\n",
    "from sklearn.preprocessing import StandardScaler\n",
    "from sklearn.feature_selection import SelectKBest\n",
    "from sklearn.feature_selection import chi2\n",
    "from sklearn import preprocessing\n",
    "import seaborn as sns\n",
    "from sklearn.ensemble import ExtraTreesClassifier\n",
    "from xgboost import XGBClassifier\n",
    "from imblearn.over_sampling import ADASYN"
   ]
  },
  {
   "cell_type": "code",
   "execution_count": 139,
   "metadata": {
    "collapsed": true
   },
   "outputs": [
    {
     "data": {
      "text/plain": [
       "Index(['DepTime', 'DepDel15', 'CRSDepTime', 'DepDelayMinutes',\n",
       "       'OriginAirportID', 'DestAirportID', 'CRSArrTime', 'ArrDel15',\n",
       "       'ArrDelayMinutes', 'windspeedKmph_x', 'DewPointF_x', 'cloudcover_x',\n",
       "       'precipMM_x', 'pressure_x', 'WindGustKmph_x', 'visibility_x',\n",
       "       'weatherCode_x', 'tempF_x', 'WindChillF_x', 'winddirDegree_x',\n",
       "       'humidity_x', 'windspeedKmph_y', 'DewPointF_y', 'cloudcover_y',\n",
       "       'precipMM_y', 'pressure_y', 'WindGustKmph_y', 'visibility_y',\n",
       "       'weatherCode_y', 'tempF_y', 'WindChillF_y', 'winddirDegree_y',\n",
       "       'humidity_y'],\n",
       "      dtype='object')"
      ]
     },
     "execution_count": 139,
     "metadata": {},
     "output_type": "execute_result"
    }
   ],
   "source": [
    "df = pd.read_csv(\"data/temp_merged.csv\")"
   ]
  },
  {
   "cell_type": "code",
   "execution_count": 125,
   "metadata": {},
   "outputs": [],
   "source": [
    "df = df.drop(columns=['Unnamed: 0', 'FlightDate', 'Quarter', 'Year', 'Month', 'DayofMonth',\n",
    "       'Origin', 'Dest','ArrTime'])\n",
    "y = df['ArrDel15']\n",
    "X = df.drop(columns=['ArrDel15','ArrDelayMinutes'])"
   ]
  },
  {
   "cell_type": "code",
   "execution_count": 126,
   "metadata": {},
   "outputs": [
    {
     "data": {
      "text/plain": [
       "Index(['DepTime', 'DepDel15', 'CRSDepTime', 'DepDelayMinutes',\n",
       "       'OriginAirportID', 'DestAirportID', 'CRSArrTime', 'windspeedKmph_x',\n",
       "       'DewPointF_x', 'cloudcover_x', 'precipMM_x', 'pressure_x',\n",
       "       'WindGustKmph_x', 'visibility_x', 'weatherCode_x', 'tempF_x',\n",
       "       'WindChillF_x', 'winddirDegree_x', 'humidity_x', 'windspeedKmph_y',\n",
       "       'DewPointF_y', 'cloudcover_y', 'precipMM_y', 'pressure_y',\n",
       "       'WindGustKmph_y', 'visibility_y', 'weatherCode_y', 'tempF_y',\n",
       "       'WindChillF_y', 'winddirDegree_y', 'humidity_y'],\n",
       "      dtype='object')"
      ]
     },
     "execution_count": 126,
     "metadata": {},
     "output_type": "execute_result"
    }
   ],
   "source": [
    "#FEATURE SET\n",
    "X.columns"
   ]
  },
  {
   "cell_type": "code",
   "execution_count": 127,
   "metadata": {},
   "outputs": [],
   "source": [
    "#SMOTE OVERSAMPLING\n",
    "x_train, x_test, y_train, y_test = train_test_split(X, y, train_size=0.7)\n",
    "sm = ADASYN(sampling_strategy='minority')\n",
    "x_train, y_train = sm.fit_sample(x_train, y_train)\n",
    "sampled_df = pd.concat([pd.DataFrame(x_train), pd.DataFrame(y_train)], axis=1)\n",
    "\n",
    "k=X.columns\n",
    "z=pd.DataFrame(y,columns=['ArrDel15'])\n",
    "sampled_df.columns=k.append(z.columns)"
   ]
  },
  {
   "cell_type": "code",
   "execution_count": 128,
   "metadata": {},
   "outputs": [
    {
     "data": {
      "text/plain": [
       "1.0    1035405\n",
       "0.0    1024063\n",
       "Name: ArrDel15, dtype: int64"
      ]
     },
     "execution_count": 128,
     "metadata": {},
     "output_type": "execute_result"
    }
   ],
   "source": [
    "sampled_df.ArrDel15.value_counts()"
   ]
  },
  {
   "cell_type": "code",
   "execution_count": 112,
   "metadata": {},
   "outputs": [],
   "source": [
    "#Using selectKBest to select best features\n",
    "\"\"\"\n",
    "min_max_scaler = preprocessing.MinMaxScaler()\n",
    "Scaled_X = min_max_scaler.fit_transform(x_train)\n",
    "\n",
    "bestfeatures = SelectKBest(chi2, k=15)\n",
    "fit = bestfeatures.fit(Scaled_X,y_train)\n",
    "\n",
    "dfscores = pd.DataFrame(fit.scores_)\n",
    "dfcolumns = pd.DataFrame(X.columns)\n",
    "\n",
    "#concat two dataframes for better visualization \n",
    "featureScores = pd.concat([dfcolumns,dfscores],axis=1)\n",
    "featureScores.columns = ['Specs','Score']  \n",
    "feats = list(featureScores.nlargest(22,'Score').Specs)\n",
    "x_train = sampled_df[feats]\n",
    "x_test = x_test[feats]\n",
    "\n",
    "\"\"\""
   ]
  },
  {
   "cell_type": "code",
   "execution_count": 129,
   "metadata": {},
   "outputs": [],
   "source": [
    "x_train, x_test, y_train, y_test = train_test_split(X, y, train_size=0.7)"
   ]
  },
  {
   "cell_type": "markdown",
   "metadata": {},
   "source": [
    "# LOGISTIC REGRESSION"
   ]
  },
  {
   "cell_type": "code",
   "execution_count": 130,
   "metadata": {},
   "outputs": [],
   "source": [
    "lr = linear_model.LogisticRegression(max_iter=2000)\n",
    "clf = lr.fit(x_train, y_train)"
   ]
  },
  {
   "cell_type": "code",
   "execution_count": 131,
   "metadata": {},
   "outputs": [
    {
     "name": "stdout",
     "output_type": "stream",
     "text": [
      "Logistic regression Train Accuracy :  0.9162795147850737\n",
      "Logistic regression Test Accuracy  :  0.9157337558288173\n",
      "[[ 79753  36752]\n",
      " [ 10052 428873]]\n",
      "              precision    recall  f1-score   support\n",
      "\n",
      "         0.0       0.92      0.98      0.95    438925\n",
      "         1.0       0.89      0.68      0.77    116505\n",
      "\n",
      "    accuracy                           0.92    555430\n",
      "   macro avg       0.90      0.83      0.86    555430\n",
      "weighted avg       0.91      0.92      0.91    555430\n",
      "\n"
     ]
    }
   ],
   "source": [
    "print(\"Logistic regression Train Accuracy : \", clf.score(x_train,y_train))\n",
    "print(\"Logistic regression Test Accuracy  : \", metrics.accuracy_score(y_test, lr.predict(x_test)))\n",
    "\n",
    "print(confusion_matrix(y_test,lr.predict(x_test),labels=[1,0]))\n",
    "\n",
    "print(classification_report(y_test,lr.predict(x_test)))"
   ]
  },
  {
   "cell_type": "markdown",
   "metadata": {},
   "source": [
    "# RANDOM FOREST CLASSIFIER"
   ]
  },
  {
   "cell_type": "code",
   "execution_count": 136,
   "metadata": {},
   "outputs": [],
   "source": [
    "rf = RandomForestClassifier(criterion='entropy')\n",
    "clf = rf.fit(x_train, y_train)\n",
    "y_pred = rf.predict(x_test)"
   ]
  },
  {
   "cell_type": "code",
   "execution_count": 137,
   "metadata": {
    "scrolled": false
   },
   "outputs": [
    {
     "name": "stdout",
     "output_type": "stream",
     "text": [
      " Train Accuracy :  0.9999714506833703\n",
      " Test Accuracy  :  0.9183389446014799\n",
      "CONFUSION MATRIX\n",
      " [[ 81689  34816]\n",
      " [ 10541 428384]]\n",
      "              precision    recall  f1-score   support\n",
      "\n",
      "         0.0       0.92      0.98      0.95    438925\n",
      "         1.0       0.89      0.70      0.78    116505\n",
      "\n",
      "    accuracy                           0.92    555430\n",
      "   macro avg       0.91      0.84      0.87    555430\n",
      "weighted avg       0.92      0.92      0.91    555430\n",
      "\n"
     ]
    }
   ],
   "source": [
    "print(\" Train Accuracy : \", clf.score(x_train, y_train))\n",
    "print(\" Test Accuracy  : \", metrics.accuracy_score(y_test, y_pred))\n",
    "\n",
    "print(\"CONFUSION MATRIX\\n\",confusion_matrix(y_test, y_pred, labels=[1,0]))\n",
    "\n",
    "print(classification_report(y_test, y_pred))"
   ]
  },
  {
   "cell_type": "markdown",
   "metadata": {},
   "source": [
    "# EXTRA TREES CLASSIFIER"
   ]
  },
  {
   "cell_type": "code",
   "execution_count": 134,
   "metadata": {},
   "outputs": [],
   "source": [
    "ex = ExtraTreesClassifier(criterion='entropy')\n",
    "clf = ex.fit(x_train,y_train)\n",
    "y_pred = ex.predict(x_test)"
   ]
  },
  {
   "cell_type": "code",
   "execution_count": 135,
   "metadata": {},
   "outputs": [
    {
     "name": "stdout",
     "output_type": "stream",
     "text": [
      " Train Accuracy :  0.9999992283968479\n",
      " Test Accuracy  :  0.9112831499918982\n",
      "CONFUSION MATRIX\n",
      " [[ 86501  30004]\n",
      " [ 19272 419653]]\n",
      "              precision    recall  f1-score   support\n",
      "\n",
      "         0.0       0.93      0.96      0.94    438925\n",
      "         1.0       0.82      0.74      0.78    116505\n",
      "\n",
      "    accuracy                           0.91    555430\n",
      "   macro avg       0.88      0.85      0.86    555430\n",
      "weighted avg       0.91      0.91      0.91    555430\n",
      "\n"
     ]
    }
   ],
   "source": [
    "print(\" Train Accuracy : \", clf.score(x_train,y_train))\n",
    "print(\" Test Accuracy  : \", metrics.accuracy_score(y_test, y_pred))\n",
    "\n",
    "print(\"CONFUSION MATRIX\\n\",confusion_matrix(y_test,y_pred,labels=[1,0]))\n",
    "\n",
    "print(classification_report(y_test,y_pred))"
   ]
  },
  {
   "cell_type": "markdown",
   "metadata": {},
   "source": [
    "#  XGBOOST CLASSIFIER"
   ]
  },
  {
   "cell_type": "code",
   "execution_count": 132,
   "metadata": {},
   "outputs": [],
   "source": [
    "xg = XGBClassifier()\n",
    "clf = xg.fit(x_train, y_train)\n",
    "y_pred = xg.predict(x_test)"
   ]
  },
  {
   "cell_type": "code",
   "execution_count": 133,
   "metadata": {},
   "outputs": [
    {
     "name": "stdout",
     "output_type": "stream",
     "text": [
      " Train Accuracy :  0.922017155824485\n",
      " Test Accuracy  :  0.9192787569990818\n",
      "CONFUSION MATRIX\n",
      " [[ 81080  35425]\n",
      " [  9410 429515]]\n",
      "              precision    recall  f1-score   support\n",
      "\n",
      "         0.0       0.92      0.98      0.95    438925\n",
      "         1.0       0.90      0.70      0.78    116505\n",
      "\n",
      "    accuracy                           0.92    555430\n",
      "   macro avg       0.91      0.84      0.87    555430\n",
      "weighted avg       0.92      0.92      0.92    555430\n",
      "\n"
     ]
    }
   ],
   "source": [
    "print(\" Train Accuracy : \", clf.score(x_train, y_train))\n",
    "print(\" Test Accuracy  : \", metrics.accuracy_score(y_test, y_pred))\n",
    "\n",
    "print(\"CONFUSION MATRIX\\n\",confusion_matrix(y_test, y_pred, labels=[1,0]))\n",
    "\n",
    "print(classification_report(y_test, y_pred))"
   ]
  },
  {
   "cell_type": "code",
   "execution_count": null,
   "metadata": {},
   "outputs": [],
   "source": []
  }
 ],
 "metadata": {
  "kernelspec": {
   "display_name": "Python 3",
   "language": "python",
   "name": "python3"
  },
  "language_info": {
   "codemirror_mode": {
    "name": "ipython",
    "version": 3
   },
   "file_extension": ".py",
   "mimetype": "text/x-python",
   "name": "python",
   "nbconvert_exporter": "python",
   "pygments_lexer": "ipython3",
   "version": "3.7.4"
  }
 },
 "nbformat": 4,
 "nbformat_minor": 2
}
