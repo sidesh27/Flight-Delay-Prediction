{
  "nbformat": 4,
  "nbformat_minor": 0,
  "metadata": {
    "colab": {
      "name": "Pipelined_Model.ipynb",
      "provenance": [],
      "mount_file_id": "1Fc_vSUdQwWGWFq-SeobQQV-jjs3BoQCr",
      "authorship_tag": "ABX9TyMC+aRISKfSlBMoySgrRypy",
      "include_colab_link": true
    },
    "kernelspec": {
      "name": "python3",
      "display_name": "Python 3"
    }
  },
  "cells": [
    {
      "cell_type": "markdown",
      "metadata": {
        "id": "view-in-github",
        "colab_type": "text"
      },
      "source": [
        "<a href=\"https://colab.research.google.com/github/sidesh27/Flight-Delay-Prediction/blob/master/Pipelined_Model.ipynb\" target=\"_parent\"><img src=\"https://colab.research.google.com/assets/colab-badge.svg\" alt=\"Open In Colab\"/></a>"
      ]
    },
    {
      "cell_type": "code",
      "metadata": {
        "id": "7TkVOYj7-bwq",
        "colab_type": "code",
        "colab": {}
      },
      "source": [
        "from sklearn import preprocessing\n",
        "from sklearn.preprocessing import StandardScaler\n",
        "from imblearn.over_sampling import SMOTE\n",
        "import seaborn as sns\n",
        "import math\n",
        "from sklearn.svm import LinearSVR\n",
        "from sklearn.linear_model import LinearRegression\n",
        "from sklearn.ensemble import RandomForestRegressor\n",
        "from sklearn.ensemble import ExtraTreesRegressor\n",
        "from xgboost import XGBRegressor\n",
        "from sklearn.utils.validation import column_or_1d\n",
        "from sklearn.metrics import mean_absolute_error\n",
        "from sklearn.metrics import mean_squared_error\n",
        "from sklearn.metrics import r2_score\n",
        "from sklearn.ensemble import RandomForestClassifier\n",
        "from sklearn.tree import DecisionTreeClassifier\n",
        "import pandas as pd\n",
        "import numpy as np\n",
        "import matplotlib\n",
        "import matplotlib.pyplot as plt\n",
        "from sklearn.linear_model import LogisticRegression\n",
        "from sklearn import metrics\n",
        "from sklearn.model_selection import train_test_split\n",
        "from sklearn.metrics import confusion_matrix\n",
        "from sklearn.metrics import classification_report\n",
        "from sklearn.preprocessing import StandardScaler\n",
        "from sklearn.ensemble import ExtraTreesClassifier\n",
        "from xgboost import XGBClassifier\n",
        "from imblearn.over_sampling import ADASYN\n",
        "from sklearn.pipeline import Pipeline"
      ],
      "execution_count": null,
      "outputs": []
    },
    {
      "cell_type": "code",
      "metadata": {
        "id": "1-qf5epa_CmC",
        "colab_type": "code",
        "colab": {}
      },
      "source": [
        "df = pd.read_csv(\"drive/My Drive/temp_merged.csv\")"
      ],
      "execution_count": null,
      "outputs": []
    },
    {
      "cell_type": "code",
      "metadata": {
        "id": "UnQbRbyQ_iHD",
        "colab_type": "code",
        "colab": {}
      },
      "source": [
        "c_y = df['ArrDel15']\n",
        "X = df.drop(columns=['Unnamed: 0', 'FlightDate', 'Quarter', 'Year', 'Month', 'DayofMonth',\n",
        "       'Origin', 'Dest','ArrTime','ArrDel15',])"
      ],
      "execution_count": null,
      "outputs": []
    },
    {
      "cell_type": "code",
      "metadata": {
        "id": "-lM4X6xLeS2_",
        "colab_type": "code",
        "colab": {}
      },
      "source": [
        "cx_train, cx_test, cy_train, cy_test = train_test_split(X, c_y, train_size=0.7,random_state = 0)"
      ],
      "execution_count": null,
      "outputs": []
    },
    {
      "cell_type": "code",
      "metadata": {
        "id": "e9TzW63bTuWu",
        "colab_type": "code",
        "colab": {}
      },
      "source": [
        "cx_train = cx_train.drop(columns=['ArrDelayMinutes']) \n",
        "\n",
        "test_delay = cx_test['ArrDelayMinutes']\n",
        "\n",
        "cx_test = cx_test.drop(columns=['ArrDelayMinutes']) "
      ],
      "execution_count": null,
      "outputs": []
    },
    {
      "cell_type": "markdown",
      "metadata": {
        "id": "-a6tXN6_5Qv8",
        "colab_type": "text"
      },
      "source": [
        "##CLASSIFICATION - XGBOOST CLASSSIFIER"
      ]
    },
    {
      "cell_type": "code",
      "metadata": {
        "id": "Z73A2RaUhBZ1",
        "colab_type": "code",
        "colab": {}
      },
      "source": [
        "xg = XGBClassifier()\n",
        "clf = xg.fit(cx_train, cy_train)\n",
        "cy_pred = xg.predict(cx_test)"
      ],
      "execution_count": null,
      "outputs": []
    },
    {
      "cell_type": "code",
      "metadata": {
        "id": "peGg9mDTSfB2",
        "colab_type": "code",
        "colab": {}
      },
      "source": [
        "dic={'test_del':test_delay , 'cy_pred':list(cy_pred)}\n",
        "new_df = pd.DataFrame(dic)\n",
        "new_df = pd.concat([new_df,cx_test],axis=1)\n",
        "new_df = new_df[new_df.cy_pred == 1]"
      ],
      "execution_count": null,
      "outputs": []
    },
    {
      "cell_type": "markdown",
      "metadata": {
        "id": "QzAx24uh58WH",
        "colab_type": "text"
      },
      "source": [
        "TEST SET FOR PIPELINING FROM CLASSIFICATION TO REGRESSION"
      ]
    },
    {
      "cell_type": "code",
      "metadata": {
        "id": "ZcpTnMHNWdRe",
        "colab_type": "code",
        "colab": {}
      },
      "source": [
        "\n",
        "ry_test = new_df['test_del']\n",
        "rx_test = new_df.drop(columns=['cy_pred','test_del'])"
      ],
      "execution_count": null,
      "outputs": []
    },
    {
      "cell_type": "markdown",
      "metadata": {
        "id": "-62NHPeCcT-s",
        "colab_type": "text"
      },
      "source": [
        "##REGRESSION MODEL - XGBOOST REGRESSOR "
      ]
    },
    {
      "cell_type": "code",
      "metadata": {
        "id": "ipVBJybPch6B",
        "colab_type": "code",
        "colab": {}
      },
      "source": [
        "df = pd.read_csv(\"drive/My Drive/temp_merged.csv\")"
      ],
      "execution_count": null,
      "outputs": []
    },
    {
      "cell_type": "code",
      "metadata": {
        "id": "LM9SIIJecjr4",
        "colab_type": "code",
        "colab": {}
      },
      "source": [
        "df = df[df.ArrDel15==1]"
      ],
      "execution_count": null,
      "outputs": []
    },
    {
      "cell_type": "code",
      "metadata": {
        "id": "SZaniubOcsPS",
        "colab_type": "code",
        "colab": {}
      },
      "source": [
        "y = df['ArrDelayMinutes']\n",
        "X = df.drop(columns=['Unnamed: 0', 'FlightDate', 'Quarter', 'Year', 'Month', 'DayofMonth',\n",
        "       'Origin', 'Dest','ArrTime','ArrDel15','ArrDelayMinutes'])"
      ],
      "execution_count": null,
      "outputs": []
    },
    {
      "cell_type": "code",
      "metadata": {
        "id": "27rMTLEic3yr",
        "colab_type": "code",
        "colab": {}
      },
      "source": [
        "x_train, x_test, y_train, y_test = train_test_split(X, y, train_size=0.7,random_state = 0)"
      ],
      "execution_count": null,
      "outputs": []
    },
    {
      "cell_type": "code",
      "metadata": {
        "id": "UVZsG4Jnc_nb",
        "colab_type": "code",
        "colab": {}
      },
      "source": [
        "xgr = XGBRegressor()\n",
        "reg = xgr.fit(x_train,y_train)\n",
        "y_pred = xgr.predict(rx_test)"
      ],
      "execution_count": null,
      "outputs": []
    },
    {
      "cell_type": "code",
      "metadata": {
        "id": "QT24sGtEdUOD",
        "colab_type": "code",
        "colab": {
          "base_uri": "https://localhost:8080/",
          "height": 67
        },
        "outputId": "7d70e53f-cebb-411e-c989-8ca98830d638"
      },
      "source": [
        "print(\"MAE : \",mean_absolute_error(ry_test, y_pred))\n",
        "print(\"RMSE : \",math.sqrt(mean_squared_error(ry_test, y_pred)))\n",
        "print(\"R2_SCORE : \",r2_score(ry_test,y_pred))"
      ],
      "execution_count": null,
      "outputs": [
        {
          "output_type": "stream",
          "text": [
            "MAE :  13.413472129067241\n",
            "RMSE :  18.323108197962092\n",
            "R2_SCORE :  0.9485916327918534\n"
          ],
          "name": "stdout"
        }
      ]
    },
    {
      "cell_type": "markdown",
      "metadata": {
        "id": "3ovEXb2qovJS",
        "colab_type": "text"
      },
      "source": [
        "##REGRESSION ANALYSIS - PIPELINED MODEL"
      ]
    },
    {
      "cell_type": "code",
      "metadata": {
        "id": "XU66fkPkotYk",
        "colab_type": "code",
        "colab": {}
      },
      "source": [
        " def reg_analysis(a,b): \n",
        "  rx_test1 = new_df[(new_df.test_del>=a) & (new_df.test_del<=b) ]\n",
        "  ry_test1 = rx_test1['test_del']\n",
        "  rx_test1 = rx_test1.drop(columns=['cy_pred','test_del'])\n",
        "  y_pred = xgr.predict(rx_test1)\n",
        "  print(\"MAE : \",mean_absolute_error(ry_test1, y_pred))\n",
        "  print(\"RMSE : \",math.sqrt(mean_squared_error(ry_test1, y_pred)))\n",
        "  print(\"R2_SCORE : \",r2_score(ry_test1,y_pred))"
      ],
      "execution_count": null,
      "outputs": []
    },
    {
      "cell_type": "code",
      "metadata": {
        "id": "DDOl-WK8teif",
        "colab_type": "code",
        "colab": {
          "base_uri": "https://localhost:8080/",
          "height": 67
        },
        "outputId": "12815e75-a670-4270-f6db-c91df7e624e0"
      },
      "source": [
        "reg_analysis(0.0,100.0)"
      ],
      "execution_count": null,
      "outputs": [
        {
          "output_type": "stream",
          "text": [
            "MAE :  12.410241266818463\n",
            "RMSE :  15.723376450535051\n",
            "R2_SCORE :  0.6151795202907224\n"
          ],
          "name": "stdout"
        }
      ]
    },
    {
      "cell_type": "code",
      "metadata": {
        "id": "r_CuMaSfthyZ",
        "colab_type": "code",
        "colab": {
          "base_uri": "https://localhost:8080/",
          "height": 67
        },
        "outputId": "10d71b1c-0201-4cc3-a152-5a19acee30aa"
      },
      "source": [
        "reg_analysis(100.0,200.0)"
      ],
      "execution_count": null,
      "outputs": [
        {
          "output_type": "stream",
          "text": [
            "MAE :  16.57566849568301\n",
            "RMSE :  24.306976678492873\n",
            "R2_SCORE :  0.20939498694162617\n"
          ],
          "name": "stdout"
        }
      ]
    },
    {
      "cell_type": "code",
      "metadata": {
        "id": "OeETFMLeuGvb",
        "colab_type": "code",
        "colab": {
          "base_uri": "https://localhost:8080/",
          "height": 67
        },
        "outputId": "7e9b92ae-16e6-4983-8068-916a4730d3e8"
      },
      "source": [
        "reg_analysis(200.0,500.0)"
      ],
      "execution_count": null,
      "outputs": [
        {
          "output_type": "stream",
          "text": [
            "MAE :  18.96755177952419\n",
            "RMSE :  30.009444854243657\n",
            "R2_SCORE :  0.798924399620389\n"
          ],
          "name": "stdout"
        }
      ]
    },
    {
      "cell_type": "code",
      "metadata": {
        "id": "-w2vovEJvdpF",
        "colab_type": "code",
        "colab": {
          "base_uri": "https://localhost:8080/",
          "height": 67
        },
        "outputId": "17c5ce92-9ea9-47e6-8fb8-d23bacd582df"
      },
      "source": [
        "reg_analysis(500.0,1000.0)"
      ],
      "execution_count": null,
      "outputs": [
        {
          "output_type": "stream",
          "text": [
            "MAE :  17.1071903684744\n",
            "RMSE :  27.09615800892327\n",
            "R2_SCORE :  0.9647435341642441\n"
          ],
          "name": "stdout"
        }
      ]
    },
    {
      "cell_type": "code",
      "metadata": {
        "id": "UAXlzjyPvoep",
        "colab_type": "code",
        "colab": {}
      },
      "source": [
        "reg_analysis(1000.0,2000.0)"
      ],
      "execution_count": null,
      "outputs": []
    }
  ]
}